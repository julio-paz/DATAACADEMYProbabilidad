{
  "nbformat": 4,
  "nbformat_minor": 0,
  "metadata": {
    "colab": {
      "name": "probabilidad.ipynb",
      "provenance": [],
      "authorship_tag": "ABX9TyNeddfS3z8JEasm+qaP26yT",
      "include_colab_link": true
    },
    "kernelspec": {
      "name": "python3",
      "display_name": "Python 3"
    },
    "language_info": {
      "name": "python"
    }
  },
  "cells": [
    {
      "cell_type": "markdown",
      "metadata": {
        "id": "view-in-github",
        "colab_type": "text"
      },
      "source": [
        "<a href=\"https://colab.research.google.com/github/julio-paz/DATAACADEMYProbabilidad/blob/main/probabilidad.ipynb\" target=\"_parent\"><img src=\"https://colab.research.google.com/assets/colab-badge.svg\" alt=\"Open In Colab\"/></a>"
      ]
    },
    {
      "cell_type": "markdown",
      "metadata": {
        "id": "02afYY37-jLB"
      },
      "source": [
        "USANDO LA BISTROBUCION BINOMIAL "
      ]
    },
    {
      "cell_type": "code",
      "metadata": {
        "id": "_YEzID5L-gd_"
      },
      "source": [
        "import numpy as np\n",
        "from numpy.random import binomial #arreglos numericos \n",
        "from scipy.stats import binom\n",
        "from math import factorial\n",
        "import matplotlib.pyplot as plt #desarollo de vusualizaciones"
      ],
      "execution_count": 1,
      "outputs": []
    },
    {
      "cell_type": "markdown",
      "metadata": {
        "id": "Y7BrmS5Q_arx"
      },
      "source": [
        "Secuendcias de eventos de Bernoulli"
      ]
    },
    {
      "cell_type": "code",
      "metadata": {
        "id": "VaIoghdS_Vtf"
      },
      "source": [
        "def my_binomial (k,n,p):\n",
        "  return factorial(n)/(factorial(k)*factorial(n-k))*pow(p,k)*pow(1-p,n-k)\n"
      ],
      "execution_count": 2,
      "outputs": []
    },
    {
      "cell_type": "code",
      "metadata": {
        "colab": {
          "base_uri": "https://localhost:8080/"
        },
        "id": "ES41pBNmAcmX",
        "outputId": "23fbeea1-261a-448a-cc45-95d13510553f"
      },
      "source": [
        "dist = binom(3,0.5)\n",
        "dist.pmf(2)"
      ],
      "execution_count": 4,
      "outputs": [
        {
          "output_type": "execute_result",
          "data": {
            "text/plain": [
              "0.375"
            ]
          },
          "metadata": {
            "tags": []
          },
          "execution_count": 4
        }
      ]
    },
    {
      "cell_type": "markdown",
      "metadata": {
        "id": "1j2EdEVVBqh7"
      },
      "source": [
        "Validacion de ejercicio"
      ]
    },
    {
      "cell_type": "code",
      "metadata": {
        "colab": {
          "base_uri": "https://localhost:8080/"
        },
        "id": "lfHVl7nTBUc_",
        "outputId": "d0d8ac00-a861-4621-cb6d-26c05460ef2f"
      },
      "source": [
        "dist.cdf(2)"
      ],
      "execution_count": 5,
      "outputs": [
        {
          "output_type": "execute_result",
          "data": {
            "text/plain": [
              "0.875"
            ]
          },
          "metadata": {
            "tags": []
          },
          "execution_count": 5
        }
      ]
    },
    {
      "cell_type": "code",
      "metadata": {
        "colab": {
          "base_uri": "https://localhost:8080/"
        },
        "id": "_2aw1uw-BoO2",
        "outputId": "fa039e1b-42d1-4011-816f-081051de61ae"
      },
      "source": [
        "7/8"
      ],
      "execution_count": 6,
      "outputs": [
        {
          "output_type": "execute_result",
          "data": {
            "text/plain": [
              "0.875"
            ]
          },
          "metadata": {
            "tags": []
          },
          "execution_count": 6
        }
      ]
    },
    {
      "cell_type": "markdown",
      "metadata": {
        "id": "8GUkKa8eB55V"
      },
      "source": [
        "Simuladores de secuencia con Generadores Aleatorios "
      ]
    },
    {
      "cell_type": "code",
      "metadata": {
        "colab": {
          "base_uri": "https://localhost:8080/"
        },
        "id": "A7RqmenKCPex",
        "outputId": "b7389a33-17b9-428b-95f4-60807523bb24"
      },
      "source": [
        "p=0.5\n",
        "n=3\n",
        "binomial(n,p)"
      ],
      "execution_count": 14,
      "outputs": [
        {
          "output_type": "execute_result",
          "data": {
            "text/plain": [
              "1"
            ]
          },
          "metadata": {
            "tags": []
          },
          "execution_count": 14
        }
      ]
    },
    {
      "cell_type": "code",
      "metadata": {
        "id": "qCjn66zvChLj"
      },
      "source": [
        "arr = []\n",
        "for _ in range(100):\n",
        "  arr.append(binomial(n,p))"
      ],
      "execution_count": 16,
      "outputs": []
    },
    {
      "cell_type": "code",
      "metadata": {
        "colab": {
          "base_uri": "https://localhost:8080/",
          "height": 809
        },
        "id": "yyk04bwtENPS",
        "outputId": "0ebd4707-c1ff-42b8-d9ba-e10663dc0fed"
      },
      "source": [
        "def plot_hist(num_trials):\n",
        "  values = [0,1,2,3]\n",
        "  arr = []\n",
        "  for _ in range(num_trials):\n",
        "    arr.append(binomial(3, 0.5))\n",
        "  simulada = np.unique(arr, return_counts=True)[1]/len(arr)\n",
        "  teorica = [binom(3, 0.5).pmf(k) for k in values]\n",
        "  plt.bar(values, teorica, label = 'teoría', color = 'red')\n",
        "  plt.bar(values, simulada, label = 'simulación', alpha = 0.5, color = 'blue')\n",
        "  plt.title('{} experimentos'.format(num_trials))\n",
        "  plt.show()\n",
        "\n",
        "plot_hist(20)\n",
        "\n",
        "plot_hist(200)\n",
        "\n",
        "plot_hist(20000)\n"
      ],
      "execution_count": 40,
      "outputs": [
        {
          "output_type": "display_data",
          "data": {
            "image/png": "[encoded data removed]",
            "text/plain": [
              "<Figure size 432x288 with 1 Axes>"
            ]
          },
          "metadata": {
            "tags": [],
            "needs_background": "light"
          }
        },
        {
          "output_type": "display_data",
          "data": {
            "image/png": "[encoded data removed]",
            "text/plain": [
              "<Figure size 432x288 with 1 Axes>"
            ]
          },
          "metadata": {
            "tags": [],
            "needs_background": "light"
          }
        },
        {
          "output_type": "display_data",
          "data": {
            "image/png": "[encoded data removed]",
            "text/plain": [
              "<Figure size 432x288 with 1 Axes>"
            ]
          },
          "metadata": {
            "tags": [],
            "needs_background": "light"
          }
        }
      ]
    }
  ]
}