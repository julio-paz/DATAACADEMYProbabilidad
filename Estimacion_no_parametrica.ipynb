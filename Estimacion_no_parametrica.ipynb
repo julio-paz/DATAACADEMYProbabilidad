{
  "nbformat": 4,
  "nbformat_minor": 0,
  "metadata": {
    "colab": {
      "name": "Estimacion_no_parametrica.ipynb",
      "provenance": [],
      "authorship_tag": "ABX9TyOIVTrd7rO2GPZiePpVR7ND",
      "include_colab_link": true
    },
    "kernelspec": {
      "name": "python3",
      "display_name": "Python 3"
    },
    "language_info": {
      "name": "python"
    }
  },
  "cells": [
    {
      "cell_type": "markdown",
      "metadata": {
        "id": "view-in-github",
        "colab_type": "text"
      },
      "source": [
        "<a href=\"https://colab.research.google.com/github/julio-paz/DATAACADEMYProbabilidad/blob/main/Estimacion_no_parametrica.ipynb\" target=\"_parent\"><img src=\"https://colab.research.google.com/assets/colab-badge.svg\" alt=\"Open In Colab\"/></a>"
      ]
    },
    {
      "cell_type": "markdown",
      "metadata": {
        "id": "acCd55H7X5cr"
      },
      "source": [
        "Distribucion de probabilidad "
      ]
    },
    {
      "cell_type": "code",
      "metadata": {
        "id": "BORI4sTqXlW2"
      },
      "source": [
        "import numpy as np\n",
        "from matplotlib import pyplot \n",
        "from numpy.random import normal\n",
        "from scipy.stats import norm"
      ],
      "execution_count": 1,
      "outputs": []
    },
    {
      "cell_type": "code",
      "metadata": {
        "colab": {
          "base_uri": "https://localhost:8080/",
          "height": 265
        },
        "id": "aA3hgzDdYAou",
        "outputId": "3c299577-21be-4603-e544-03e0a049b7b2"
      },
      "source": [
        "sample = normal(size=10000) #generador \n",
        "pyplot.hist(sample,bins=30) \n",
        "pyplot.show()"
      ],
      "execution_count": 3,
      "outputs": [
        {
          "output_type": "display_data",
          "data": {
            "image/png": "[encoded data removed]",
            "text/plain": [
              "<Figure size 432x288 with 1 Axes>"
            ]
          },
          "metadata": {
            "tags": [],
            "needs_background": "light"
          }
        }
      ]
    },
    {
      "cell_type": "code",
      "metadata": {
        "colab": {
          "base_uri": "https://localhost:8080/",
          "height": 265
        },
        "id": "T2xKhUHNYpkX",
        "outputId": "ce727d6c-57c5-4b84-a7b8-7e0ba94360bf"
      },
      "source": [
        "sample = normal(loc=50 ,scale=5, size=1000) #mu = 50 , sigma = 5\n",
        "mu = sample.mean()\n",
        "sigma = sample.std()\n",
        "dist = norm(mu,sigma)\n",
        "values = [value for value in range(30, 70)]\n",
        "probabilidades = [dist.pdf(value) for value in values]\n",
        "pyplot.hist(sample, bins = 30, density=True)\n",
        "pyplot.plot(values, probabilidades)\n",
        "pyplot.show()"
      ],
      "execution_count": 14,
      "outputs": [
        {
          "output_type": "display_data",
          "data": {
            "image/png": "[encoded data removed]",
            "text/plain": [
              "<Figure size 432x288 with 1 Axes>"
            ]
          },
          "metadata": {
            "tags": [],
            "needs_background": "light"
          }
        }
      ]
    },
    {
      "cell_type": "markdown",
      "metadata": {
        "id": "3ukS01tnbIqa"
      },
      "source": [
        "Etimacion no parametrica"
      ]
    },
    {
      "cell_type": "code",
      "metadata": {
        "colab": {
          "base_uri": "https://localhost:8080/"
        },
        "id": "J2ybGnZPbL-r",
        "outputId": "a048a012-27c1-4940-8786-691e43ba10ec"
      },
      "source": [
        "from numpy import hstack\n",
        "from sklearn.neighbors import KernelDensity\n",
        "\n",
        "#construimos una distribución bimodal\n",
        "sample1 = normal(loc=20, scale=5, size=300)\n",
        "sample2 = normal(loc=40, scale=5, size=700)\n",
        "sample = hstack((sample1, sample2))\n",
        "\n",
        "model = KernelDensity(bandwidth=2, kernel='gaussian')\n",
        "sample = sample.reshape((len(sample), 1))\n",
        "model.fit(sample)"
      ],
      "execution_count": 16,
      "outputs": [
        {
          "output_type": "execute_result",
          "data": {
            "text/plain": [
              "KernelDensity(algorithm='auto', atol=0, bandwidth=2, breadth_first=True,\n",
              "              kernel='gaussian', leaf_size=40, metric='euclidean',\n",
              "              metric_params=None, rtol=0)"
            ]
          },
          "metadata": {
            "tags": []
          },
          "execution_count": 16
        }
      ]
    },
    {
      "cell_type": "code",
      "metadata": {
        "colab": {
          "base_uri": "https://localhost:8080/",
          "height": 265
        },
        "id": "4Ajg-ELzboPD",
        "outputId": "c52fc0c4-d39e-4c08-d480-f92d9da0bf0b"
      },
      "source": [
        "values = np.asarray([value for value in range(1, 60)])\n",
        "values = values.reshape((len(values), 1))\n",
        "probabilities = model.score_samples(values) #probabilidad logarítmica\n",
        "probabilities = np.exp(probabilities)  # inversión de probabilidad\n",
        "\n",
        "pyplot.hist(sample, bins=50 , density=True)\n",
        "pyplot.plot(values, probabilities)\n",
        "pyplot.show()"
      ],
      "execution_count": 18,
      "outputs": [
        {
          "output_type": "display_data",
          "data": {
            "image/png": "[encoded data removed]",
            "text/plain": [
              "<Figure size 432x288 with 1 Axes>"
            ]
          },
          "metadata": {
            "tags": [],
            "needs_background": "light"
          }
        }
      ]
    }
  ]
}